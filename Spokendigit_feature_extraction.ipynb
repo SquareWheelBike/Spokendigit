{
  "cells": [
    {
      "cell_type": "markdown",
      "metadata": {
        "colab_type": "text",
        "id": "view-in-github"
      },
      "source": [
        "<a href=\"https://colab.research.google.com/github/AyishaR/Spokendigit/blob/master/Spokendigit_feature_extraction.ipynb\" target=\"_parent\"><img src=\"https://colab.research.google.com/assets/colab-badge.svg\" alt=\"Open In Colab\"/></a>"
      ]
    },
    {
      "cell_type": "code",
      "execution_count": 3,
      "metadata": {
        "colab": {},
        "colab_type": "code",
        "id": "tT8VyV4gThU6"
      },
      "outputs": [],
      "source": [
        "import torch\n",
        "import tarfile\n",
        "from torchvision.datasets.utils import download_url\n",
        "import os\n",
        "import librosa\n",
        "import pandas as pd\n",
        "import numpy as np\n",
        "import torchvision.transforms as transforms\n",
        "import csv\n",
        "from PIL import Image"
      ]
    },
    {
      "cell_type": "markdown",
      "metadata": {
        "colab_type": "text",
        "id": "GUrCLsVF6yar"
      },
      "source": [
        "#Data"
      ]
    },
    {
      "cell_type": "code",
      "execution_count": 4,
      "metadata": {
        "colab": {
          "base_uri": "https://localhost:8080/",
          "height": 86,
          "referenced_widgets": [
            "463e8869a98446b5b89f9d969f395b0a",
            "c8fc4f01e8284c47a35660c74f6b79ad",
            "5db4dbaf04504fcaa49ac37918516fee",
            "613e9db7fc6a4c4cbb56f698ea44d0eb",
            "d1ce580ae5d7495e9ffe1cc243f02cbb",
            "42b0d2f8e513485f8d6bee85fd68692e",
            "eab92e50ed314be689e3ccde86edd049",
            "fa80d9c23c754e1abbfdebcd6e3744be"
          ]
        },
        "colab_type": "code",
        "id": "L3sp7sb4UoGC",
        "outputId": "9a874fd3-268b-4677-fbb7-36eb8a2c147e"
      },
      "outputs": [
        {
          "name": "stderr",
          "output_type": "stream",
          "text": [
            "0.1%"
          ]
        },
        {
          "name": "stdout",
          "output_type": "stream",
          "text": [
            "Downloading http://download.tensorflow.org/data/speech_commands_v0.01.tar.gz to ./content/speech_commands_v0.01.tar.gz\n"
          ]
        },
        {
          "name": "stderr",
          "output_type": "stream",
          "text": [
            "100.0%\n"
          ]
        }
      ],
      "source": [
        "data = download_url(\"http://download.tensorflow.org/data/speech_commands_v0.01.tar.gz\", \"./content/\")\n",
        "\n",
        "with tarfile.open('./content/speech_commands_v0.01.tar.gz', 'r:gz') as tar:\n",
        "    tar.extractall(path='./data')"
      ]
    },
    {
      "cell_type": "code",
      "execution_count": 5,
      "metadata": {
        "colab": {
          "base_uri": "https://localhost:8080/",
          "height": 85
        },
        "colab_type": "code",
        "id": "Vc9kF-4nZSO5",
        "outputId": "851fb924-be55-4eb6-9d69-b57c6135dcf0"
      },
      "outputs": [
        {
          "data": {
            "text/plain": [
              "(array([-2.4200403e-05, -1.5995935e-04, -4.0402895e-04, ...,\n",
              "        -6.1815680e-04, -3.3453177e-04, -1.7021231e-04], dtype=float32),\n",
              " (22050,),\n",
              " 22050)"
            ]
          },
          "execution_count": 5,
          "metadata": {},
          "output_type": "execute_result"
        }
      ],
      "source": [
        "data, sampling_rate = librosa.load('./data/one/00176480_nohash_0.wav')\n",
        "data, data.shape, sampling_rate"
      ]
    },
    {
      "cell_type": "code",
      "execution_count": null,
      "metadata": {},
      "outputs": [],
      "source": []
    },
    {
      "cell_type": "code",
      "execution_count": 6,
      "metadata": {
        "colab": {
          "base_uri": "https://localhost:8080/",
          "height": 187
        },
        "colab_type": "code",
        "id": "5gSAEiOPpJAE",
        "outputId": "a4acd14d-4dfa-490a-b21b-6c8b51579201"
      },
      "outputs": [
        {
          "name": "stdout",
          "output_type": "stream",
          "text": [
            "zero :  2376\n",
            "one :  2370\n",
            "two :  2373\n",
            "three :  2356\n",
            "four :  2372\n",
            "five :  2357\n",
            "six :  2369\n",
            "seven :  2377\n",
            "eight :  2352\n",
            "nine :  2364\n"
          ]
        }
      ],
      "source": [
        "digit = ['zero', 'one', 'two', 'three', 'four', 'five', 'six', 'seven', 'eight', 'nine']\n",
        "for x in digit:\n",
        "    print(x, \": \", len(os.listdir('./data/'+x)))\n",
        "\n",
        "#Balanced"
      ]
    },
    {
      "cell_type": "code",
      "execution_count": 8,
      "metadata": {
        "colab": {
          "base_uri": "https://localhost:8080/",
          "height": 544
        },
        "colab_type": "code",
        "id": "U_oTjgQ0WGZJ",
        "outputId": "21b134fe-1997-4d87-d166-75a0ecb35730"
      },
      "outputs": [
        {
          "name": "stdout",
          "output_type": "stream",
          "text": [
            "bed :  1713\n",
            "bird :  1731\n",
            "cat :  1733\n",
            "dog :  1746\n",
            "down :  2359\n",
            "eight :  2352\n",
            "five :  2357\n",
            "four :  2372\n",
            "go :  2372\n",
            "happy :  1742\n",
            "house :  1750\n",
            "left :  2353\n",
            "marvin :  1746\n",
            "nine :  2364\n",
            "no :  2375\n",
            "off :  2357\n",
            "on :  2367\n",
            "one :  2370\n",
            "right :  2367\n",
            "seven :  2377\n",
            "sheila :  1734\n",
            "six :  2369\n",
            "stop :  2380\n",
            "three :  2356\n",
            "tree :  1733\n",
            "two :  2373\n",
            "up :  2375\n",
            "wow :  1745\n",
            "yes :  2377\n",
            "zero :  2376\n",
            "_background_noise_ :  7\n"
          ]
        }
      ],
      "source": [
        "for x in os.listdir('./data'):\n",
        "    if os.path.isdir('./data/'+x):\n",
        "        print(x, \": \", len(os.listdir('./data/'+x)))"
      ]
    },
    {
      "cell_type": "markdown",
      "metadata": {
        "colab_type": "text",
        "id": "SPP40F-q7sZA"
      },
      "source": [
        "# Reference csv files\n",
        "\n",
        "Two csv files are created.\n",
        "\n",
        "* A csv file with the path of all the recordings and the label (Spoken_digit.csv).\n",
        "* A csv file that contains the path of recording categorized by label (Spoken_digit_X.csv)."
      ]
    },
    {
      "cell_type": "code",
      "execution_count": null,
      "metadata": {
        "colab": {},
        "colab_type": "code",
        "id": "eEW3Xhyg7_pP"
      },
      "outputs": [],
      "source": [
        "import csv\n",
        "d = {}\n",
        "with open(\"Spoken_digit.csv\", 'w') as csvfile:\n",
        "    csvwriter = csv.writer(csvfile)\n",
        "    csvwriter.writerow([\"File\", \"Label\"])\n",
        "    for x in digit:\n",
        "        if os.path.isdir('./data/'+x):\n",
        "            d[x] = os.listdir('./data/'+x)\n",
        "            for name in os.listdir('./data/'+x):\n",
        "                if os.path.isfile('./data/'+x+\"/\"+name):\n",
        "                    csvwriter.writerow([x+'/'+name, x])\n",
        "\n",
        "#shuffle \n",
        "df = pd.read_csv('Spoken_digit.csv')\n",
        "df = df.sample(frac=1)\n",
        "df.to_csv('Spoken_digit.csv', index = False)\n",
        "\n",
        "dfx = pd.DataFrame.from_dict(d, orient='index', dtype = 'float32').transpose()\n",
        "dfx.to_csv('Spoken_digit_X.csv', index = False)\n",
        "'''"
      ]
    },
    {
      "cell_type": "markdown",
      "metadata": {
        "colab_type": "text",
        "id": "gGgNMcOsHa8s"
      },
      "source": [
        "#Feature extraction from dataset \n",
        "\n",
        "Extract features each time datapoint is called, i.e., extract_features() in dataset class, as below.\n",
        "\n",
        "This method is time consuming.\n",
        "\n",
        "So, we extract the features and store them beforehand (code in later section)."
      ]
    },
    {
      "cell_type": "code",
      "execution_count": null,
      "metadata": {
        "colab": {},
        "colab_type": "code",
        "id": "xi-dvohSHd32"
      },
      "outputs": [],
      "source": [
        "def extract_features(path):\n",
        "    data, sr = librosa.load('./data/'+path)\n",
        "    mfccs = np.mean(librosa.feature.mfcc(y = data, sr=sr).T, axis = 0)\n",
        "    spectral_centroids = librosa.feature.spectral_centroid(data+0.01, sr=sr)[0]\n",
        "    stft = np.abs(librosa.stft(data))\n",
        "    chroma = np.mean(librosa.feature.chroma_stft(S = stft, sr = sr).T, axis = 0)\n",
        "    mel = np.mean(librosa.feature.melspectrogram(data, sr).T, axis = 0)\n",
        "    contrast = np.mean(librosa.feature.spectral_contrast(S = stft, sr = sr).T, axis = 0)\n",
        "    tonnetz = np.mean(librosa.feature.tonnetz(y = librosa.effects.harmonic(data), sr = sr).T, axis = 0)\n",
        "    \n",
        "    #print(mfccs.shape, spectral_centroids.shape, stft.shape, chroma.shape, mel.shape, contrast.shape, tonnetz.shape)\n",
        "    \n",
        "    #spectral_centroids have varying shapes for each datapoint and stft is 2d array. Thus they are not included in the final features.\n",
        "    return np.concatenate((mfccs, chroma, mel, contrast, tonnetz), axis = 0).astype('float32')"
      ]
    },
    {
      "cell_type": "code",
      "execution_count": null,
      "metadata": {
        "colab": {},
        "colab_type": "code",
        "id": "bfpmcfq195go"
      },
      "outputs": [],
      "source": [
        "class SpokenDigist(Dataset):\n",
        "    def __init__(self, file = None, rootdir = None):\n",
        "        self.df = pd.read_csv(file)\n",
        "        self.rootdir = rootdir\n",
        "\n",
        "    def __len__(self):\n",
        "        return len(self.df)\n",
        "\n",
        "    def __getitem__(self, i):\n",
        "        row = self.df.loc[i]\n",
        "        fname, label = row['File'], row['Label']\n",
        "        fts = extract_features(fname)\n",
        "        #print(len(fts))\n",
        "        return torch.tensor(fts), torch.tensor(digit.index(label))\n",
        "    \n",
        "    def getsr(self, i):\n",
        "        fname, label = row['File'], row['Label']\n",
        "        _, sr = librosa.load(self.rootdir+'/'+fname)\n",
        "        return sr"
      ]
    },
    {
      "cell_type": "code",
      "execution_count": null,
      "metadata": {
        "colab": {},
        "colab_type": "code",
        "id": "z5mZ92UY_FBk"
      },
      "outputs": [],
      "source": [
        "spoken_dset = SpokenDigit(file = \"Spoken_digit.csv\", rootdir = \"./data/\")"
      ]
    },
    {
      "cell_type": "markdown",
      "metadata": {
        "colab_type": "text",
        "id": "qwNMV6p74Q6I"
      },
      "source": [
        "#Mel cnn\n",
        "\n",
        "Extracting melspectogram image for each image. Stored in drive. Takes about 4.5+hours.\n",
        "\n",
        "Ran separately for each digit using Spoken_digit_X.csv generated above."
      ]
    },
    {
      "cell_type": "code",
      "execution_count": null,
      "metadata": {
        "colab": {},
        "colab_type": "code",
        "id": "a7KViMnyatW_"
      },
      "outputs": [],
      "source": [
        "from google.colab import files\n",
        "from google.colab import drive\n",
        "drive.mount('./content/drive')"
      ]
    },
    {
      "cell_type": "code",
      "execution_count": null,
      "metadata": {
        "colab": {},
        "colab_type": "code",
        "id": "25K7Oadz4TFZ"
      },
      "outputs": [],
      "source": [
        "sp = pd.read_csv('Spoken_digit_X.csv')"
      ]
    },
    {
      "cell_type": "code",
      "execution_count": null,
      "metadata": {
        "colab": {},
        "colab_type": "code",
        "id": "rCWV3Zp64Yxd"
      },
      "outputs": [],
      "source": [
        "def extract_mel(f, label):\n",
        "    \n",
        "    data, sr = librosa.load('./data/'+label+'/'+f)\n",
        "    \n",
        "    fig = plt.figure(figsize=[1,1])\n",
        "    ax = fig.add_subplot(111)\n",
        "    ax.axes.get_xaxis().set_visible(False)\n",
        "    ax.axes.get_yaxis().set_visible(False)\n",
        "    ax.set_frame_on(False)\n",
        "    \n",
        "    S = librosa.feature.melspectrogram(y=data, sr=sr)\n",
        "    librosa.display.specshow(librosa.power_to_db(S, ref=np.max), x_axis='time', y_axis='mel', fmin=50, fmax=280)\n",
        "    file  = './content/drive/My Drive/Dataset/spokendigit/'+label+'/' + str(f[:-4]) + '.jpg'\n",
        "    plt.savefig(file, dpi=500, bbox_inches='tight',pad_inches=0)\n",
        "    \n",
        "    plt.close()"
      ]
    },
    {
      "cell_type": "code",
      "execution_count": null,
      "metadata": {
        "colab": {},
        "colab_type": "code",
        "id": "KRT5vLLKdqGc"
      },
      "outputs": [],
      "source": [
        "for lbl in digit:\n",
        "    j=0\n",
        "    print(lbl)\n",
        "    for t in sp[lbl]:\n",
        "        if type(t) == str:\n",
        "            print(j)\n",
        "            j = j+1\n",
        "            extract_mel(t, lbl)"
      ]
    },
    {
      "cell_type": "markdown",
      "metadata": {
        "colab_type": "text",
        "id": "11bn6lDzMFqg"
      },
      "source": [
        "#Individual features\n",
        "\n",
        "Extracting and simultaneously writing to a csv file, each element of each feature separately. Takes about 4.5+hours. \n",
        "\n",
        "### CSV details - \n",
        "\n",
        "label, mfccs, chroma, mel, contrast, tonnetz\n",
        "\n",
        "(1,) (20,) (12,) (128,) (7,) (6,)\n",
        "\n",
        "Stft is a 2D array. So its not included.\n"
      ]
    },
    {
      "cell_type": "code",
      "execution_count": null,
      "metadata": {
        "colab": {},
        "colab_type": "code",
        "id": "4RXi6OTQS14m"
      },
      "outputs": [],
      "source": [
        "sp = pd.read_csv(\"Spoken_digit.csv\")"
      ]
    },
    {
      "cell_type": "code",
      "execution_count": null,
      "metadata": {
        "colab": {},
        "colab_type": "code",
        "id": "LERXPd0gEhA6"
      },
      "outputs": [],
      "source": [
        "csvfile = open(\"Spokendigit_final_fts.csv\", \"w\")\n",
        "csvwriter = csv.writer(csvfile)\n",
        "csvwriter.writerow(np.concatenate((['Label'], [i for i in range(1, 174)])))"
      ]
    },
    {
      "cell_type": "code",
      "execution_count": null,
      "metadata": {
        "colab": {},
        "colab_type": "code",
        "id": "sTIqMXv-MIhO"
      },
      "outputs": [],
      "source": [
        "def extract_features(files):\n",
        "    data, sr = librosa.load('./data/'+files.File)\n",
        "    mfccs = np.mean(librosa.feature.mfcc(y = data, sr=sr).T, axis = 0)\n",
        "    stft = np.abs(librosa.stft(data))\n",
        "    chroma = np.mean(librosa.feature.chroma_stft(S = stft, sr = sr).T, axis = 0)\n",
        "    mel = np.mean(librosa.feature.melspectrogram(data, sr).T, axis = 0)\n",
        "    contrast = np.mean(librosa.feature.spectral_contrast(S = stft, sr = sr).T, axis = 0)\n",
        "    tonnetz = np.mean(librosa.feature.tonnetz(y = librosa.effects.harmonic(data), sr = sr).T, axis = 0)\n",
        "    \n",
        "    #print(mfccs.shape, stft.shape, chroma.shape, mel.shape, contrast.shape, tonnetz.shape)\n",
        "    \n",
        "    row =  np.concatenate((mfccs, chroma, mel, contrast, tonnetz), axis = 0).astype('float32')\n",
        "    csvwriter.writerow(np.concatenate(([digit.index(files.Label)], row)))"
      ]
    },
    {
      "cell_type": "code",
      "execution_count": null,
      "metadata": {
        "colab": {},
        "colab_type": "code",
        "id": "XJepGaY3Sw37"
      },
      "outputs": [],
      "source": [
        "sp.apply(extract_features, axis = 1)"
      ]
    }
  ],
  "metadata": {
    "colab": {
      "authorship_tag": "ABX9TyPLlLBpmOmI2ZPWbrAw5VJg",
      "collapsed_sections": [
        "1HPmkNS36wEv",
        "Io-WhKnHUh6P"
      ],
      "include_colab_link": true,
      "name": "Spokendigit feature extraction.ipynb",
      "provenance": []
    },
    "kernelspec": {
      "display_name": "Python 3.8.8 64-bit",
      "language": "python",
      "name": "python3"
    },
    "language_info": {
      "codemirror_mode": {
        "name": "ipython",
        "version": 3
      },
      "file_extension": ".py",
      "mimetype": "text/x-python",
      "name": "python",
      "nbconvert_exporter": "python",
      "pygments_lexer": "ipython3",
      "version": "3.8.8"
    },
    "vscode": {
      "interpreter": {
        "hash": "b081a66ee97bd2b6a16f43955f1d810b7ea816d6eaeb65e157ef9e038445f0c6"
      }
    },
    "widgets": {
      "application/vnd.jupyter.widget-state+json": {
        "42b0d2f8e513485f8d6bee85fd68692e": {
          "model_module": "@jupyter-widgets/base",
          "model_name": "LayoutModel",
          "state": {
            "_model_module": "@jupyter-widgets/base",
            "_model_module_version": "1.2.0",
            "_model_name": "LayoutModel",
            "_view_count": null,
            "_view_module": "@jupyter-widgets/base",
            "_view_module_version": "1.2.0",
            "_view_name": "LayoutView",
            "align_content": null,
            "align_items": null,
            "align_self": null,
            "border": null,
            "bottom": null,
            "display": null,
            "flex": null,
            "flex_flow": null,
            "grid_area": null,
            "grid_auto_columns": null,
            "grid_auto_flow": null,
            "grid_auto_rows": null,
            "grid_column": null,
            "grid_gap": null,
            "grid_row": null,
            "grid_template_areas": null,
            "grid_template_columns": null,
            "grid_template_rows": null,
            "height": null,
            "justify_content": null,
            "justify_items": null,
            "left": null,
            "margin": null,
            "max_height": null,
            "max_width": null,
            "min_height": null,
            "min_width": null,
            "object_fit": null,
            "object_position": null,
            "order": null,
            "overflow": null,
            "overflow_x": null,
            "overflow_y": null,
            "padding": null,
            "right": null,
            "top": null,
            "visibility": null,
            "width": null
          }
        },
        "463e8869a98446b5b89f9d969f395b0a": {
          "model_module": "@jupyter-widgets/controls",
          "model_name": "HBoxModel",
          "state": {
            "_dom_classes": [],
            "_model_module": "@jupyter-widgets/controls",
            "_model_module_version": "1.5.0",
            "_model_name": "HBoxModel",
            "_view_count": null,
            "_view_module": "@jupyter-widgets/controls",
            "_view_module_version": "1.5.0",
            "_view_name": "HBoxView",
            "box_style": "",
            "children": [
              "IPY_MODEL_5db4dbaf04504fcaa49ac37918516fee",
              "IPY_MODEL_613e9db7fc6a4c4cbb56f698ea44d0eb"
            ],
            "layout": "IPY_MODEL_c8fc4f01e8284c47a35660c74f6b79ad"
          }
        },
        "5db4dbaf04504fcaa49ac37918516fee": {
          "model_module": "@jupyter-widgets/controls",
          "model_name": "FloatProgressModel",
          "state": {
            "_dom_classes": [],
            "_model_module": "@jupyter-widgets/controls",
            "_model_module_version": "1.5.0",
            "_model_name": "FloatProgressModel",
            "_view_count": null,
            "_view_module": "@jupyter-widgets/controls",
            "_view_module_version": "1.5.0",
            "_view_name": "ProgressView",
            "bar_style": "info",
            "description": "",
            "description_tooltip": null,
            "layout": "IPY_MODEL_42b0d2f8e513485f8d6bee85fd68692e",
            "max": 1,
            "min": 0,
            "orientation": "horizontal",
            "style": "IPY_MODEL_d1ce580ae5d7495e9ffe1cc243f02cbb",
            "value": 1
          }
        },
        "613e9db7fc6a4c4cbb56f698ea44d0eb": {
          "model_module": "@jupyter-widgets/controls",
          "model_name": "HTMLModel",
          "state": {
            "_dom_classes": [],
            "_model_module": "@jupyter-widgets/controls",
            "_model_module_version": "1.5.0",
            "_model_name": "HTMLModel",
            "_view_count": null,
            "_view_module": "@jupyter-widgets/controls",
            "_view_module_version": "1.5.0",
            "_view_name": "HTMLView",
            "description": "",
            "description_tooltip": null,
            "layout": "IPY_MODEL_fa80d9c23c754e1abbfdebcd6e3744be",
            "placeholder": "​",
            "style": "IPY_MODEL_eab92e50ed314be689e3ccde86edd049",
            "value": " 1489100800/? [00:40&lt;00:00, 63127219.07it/s]"
          }
        },
        "c8fc4f01e8284c47a35660c74f6b79ad": {
          "model_module": "@jupyter-widgets/base",
          "model_name": "LayoutModel",
          "state": {
            "_model_module": "@jupyter-widgets/base",
            "_model_module_version": "1.2.0",
            "_model_name": "LayoutModel",
            "_view_count": null,
            "_view_module": "@jupyter-widgets/base",
            "_view_module_version": "1.2.0",
            "_view_name": "LayoutView",
            "align_content": null,
            "align_items": null,
            "align_self": null,
            "border": null,
            "bottom": null,
            "display": null,
            "flex": null,
            "flex_flow": null,
            "grid_area": null,
            "grid_auto_columns": null,
            "grid_auto_flow": null,
            "grid_auto_rows": null,
            "grid_column": null,
            "grid_gap": null,
            "grid_row": null,
            "grid_template_areas": null,
            "grid_template_columns": null,
            "grid_template_rows": null,
            "height": null,
            "justify_content": null,
            "justify_items": null,
            "left": null,
            "margin": null,
            "max_height": null,
            "max_width": null,
            "min_height": null,
            "min_width": null,
            "object_fit": null,
            "object_position": null,
            "order": null,
            "overflow": null,
            "overflow_x": null,
            "overflow_y": null,
            "padding": null,
            "right": null,
            "top": null,
            "visibility": null,
            "width": null
          }
        },
        "d1ce580ae5d7495e9ffe1cc243f02cbb": {
          "model_module": "@jupyter-widgets/controls",
          "model_name": "ProgressStyleModel",
          "state": {
            "_model_module": "@jupyter-widgets/controls",
            "_model_module_version": "1.5.0",
            "_model_name": "ProgressStyleModel",
            "_view_count": null,
            "_view_module": "@jupyter-widgets/base",
            "_view_module_version": "1.2.0",
            "_view_name": "StyleView",
            "bar_color": null,
            "description_width": "initial"
          }
        },
        "eab92e50ed314be689e3ccde86edd049": {
          "model_module": "@jupyter-widgets/controls",
          "model_name": "DescriptionStyleModel",
          "state": {
            "_model_module": "@jupyter-widgets/controls",
            "_model_module_version": "1.5.0",
            "_model_name": "DescriptionStyleModel",
            "_view_count": null,
            "_view_module": "@jupyter-widgets/base",
            "_view_module_version": "1.2.0",
            "_view_name": "StyleView",
            "description_width": ""
          }
        },
        "fa80d9c23c754e1abbfdebcd6e3744be": {
          "model_module": "@jupyter-widgets/base",
          "model_name": "LayoutModel",
          "state": {
            "_model_module": "@jupyter-widgets/base",
            "_model_module_version": "1.2.0",
            "_model_name": "LayoutModel",
            "_view_count": null,
            "_view_module": "@jupyter-widgets/base",
            "_view_module_version": "1.2.0",
            "_view_name": "LayoutView",
            "align_content": null,
            "align_items": null,
            "align_self": null,
            "border": null,
            "bottom": null,
            "display": null,
            "flex": null,
            "flex_flow": null,
            "grid_area": null,
            "grid_auto_columns": null,
            "grid_auto_flow": null,
            "grid_auto_rows": null,
            "grid_column": null,
            "grid_gap": null,
            "grid_row": null,
            "grid_template_areas": null,
            "grid_template_columns": null,
            "grid_template_rows": null,
            "height": null,
            "justify_content": null,
            "justify_items": null,
            "left": null,
            "margin": null,
            "max_height": null,
            "max_width": null,
            "min_height": null,
            "min_width": null,
            "object_fit": null,
            "object_position": null,
            "order": null,
            "overflow": null,
            "overflow_x": null,
            "overflow_y": null,
            "padding": null,
            "right": null,
            "top": null,
            "visibility": null,
            "width": null
          }
        }
      }
    }
  },
  "nbformat": 4,
  "nbformat_minor": 0
}
